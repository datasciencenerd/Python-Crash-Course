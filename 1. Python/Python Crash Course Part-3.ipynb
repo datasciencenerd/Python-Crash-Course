{
 "cells": [
  {
   "cell_type": "markdown",
   "metadata": {},
   "source": [
    "# Functions\n",
    "In Python, a function is a group of related statements that performs a specific task. A function is a block of code which only runs when it is called.\n",
    "Function devides a prpgram into smaller chuncks. It also avoids repetition of code.<br>\n",
    "A function is defined using the <code>def</code> keyword:"
   ]
  },
  {
   "cell_type": "code",
   "execution_count": 1,
   "metadata": {},
   "outputs": [],
   "source": [
    "def my_function():\n",
    "    print(\"Hello i am a function\")"
   ]
  },
  {
   "cell_type": "markdown",
   "metadata": {},
   "source": [
    "## Calling a Function\n",
    "* To call a function, use the function name followed by parenthesis:"
   ]
  },
  {
   "cell_type": "code",
   "execution_count": 1,
   "metadata": {},
   "outputs": [
    {
     "name": "stdout",
     "output_type": "stream",
     "text": [
      "Hello i am a function\n"
     ]
    }
   ],
   "source": [
    "def my_function():\n",
    "    print(\"Hello i am a function\")\n",
    "my_function()"
   ]
  },
  {
   "cell_type": "markdown",
   "metadata": {},
   "source": [
    "* Functions may also receive arguments (variables passed from the caller to the function). For example:\n",
    "\n"
   ]
  },
  {
   "cell_type": "code",
   "execution_count": 2,
   "metadata": {},
   "outputs": [],
   "source": [
    "def my_function_with_args(name, greeting):\n",
    "    print(\"Hello, %s , From My Function!, I wish you %s\"%(name, greeting))"
   ]
  },
  {
   "cell_type": "code",
   "execution_count": 5,
   "metadata": {},
   "outputs": [
    {
     "name": "stdout",
     "output_type": "stream",
     "text": [
      "Hello, ABCD , From My Function!, I wish you Good Morning\n"
     ]
    }
   ],
   "source": [
    "my_function_with_args('ABCD', 'Good Morning')"
   ]
  },
  {
   "cell_type": "markdown",
   "metadata": {},
   "source": [
    "* Functions may return a value to the caller, using the keyword- 'return' . For example:\n",
    "\n"
   ]
  },
  {
   "cell_type": "code",
   "execution_count": 6,
   "metadata": {},
   "outputs": [],
   "source": [
    "def sum_two_numbers(a, b):\n",
    "    return a + b"
   ]
  },
  {
   "cell_type": "code",
   "execution_count": 7,
   "metadata": {},
   "outputs": [
    {
     "data": {
      "text/plain": [
       "9"
      ]
     },
     "execution_count": 7,
     "metadata": {},
     "output_type": "execute_result"
    }
   ],
   "source": [
    "sum_two_numbers(5, 4)"
   ]
  },
  {
   "cell_type": "markdown",
   "metadata": {},
   "source": [
    "## Lambda/Anonymous Funciton\n",
    "A lambda function is a small anonymous function.\n",
    "While normal functions are defined using the <code>def</code> keyword in Python, anonymous functions are defined using the <code>lambda</code> keyword.\n",
    "\n",
    "### Syntax\n",
    "* lambda arguments : expression\n",
    "\n"
   ]
  },
  {
   "cell_type": "code",
   "execution_count": 9,
   "metadata": {},
   "outputs": [
    {
     "name": "stdout",
     "output_type": "stream",
     "text": [
      "20\n"
     ]
    }
   ],
   "source": [
    "# multiplication operation\n",
    "x = lambda a, b : a * b\n",
    "print(x(5, 4))"
   ]
  },
  {
   "cell_type": "code",
   "execution_count": 11,
   "metadata": {},
   "outputs": [
    {
     "name": "stdout",
     "output_type": "stream",
     "text": [
      "24\n"
     ]
    }
   ],
   "source": [
    "# addition operation\n",
    "x = lambda a, b, c : a + b + c\n",
    "print(x(6, 8, 10))"
   ]
  },
  {
   "cell_type": "code",
   "execution_count": 12,
   "metadata": {},
   "outputs": [
    {
     "name": "stdout",
     "output_type": "stream",
     "text": [
      "[2, 4, 6, 8, 12, 10]\n"
     ]
    }
   ],
   "source": [
    "# Program to filter out only the even items from a list\n",
    "my_list = [1, 2, 3, 5, 4, 6, 8, 7, 11, 9, 3, 12, 10]\n",
    "\n",
    "new_list = list(filter(lambda x: (x%2 == 0) , my_list))\n",
    "\n",
    "print(new_list)"
   ]
  },
  {
   "cell_type": "markdown",
   "metadata": {},
   "source": [
    "## map() function\n",
    "The map() function in Python takes in a function and a list.\n",
    "The function is called with all the items in the list and a new list is returned which contains items returned by that function for each item.\n"
   ]
  },
  {
   "cell_type": "code",
   "execution_count": 13,
   "metadata": {},
   "outputs": [
    {
     "name": "stdout",
     "output_type": "stream",
     "text": [
      "[2, 4, 6, 8, 10, 12, 14, 16, 18, 20]\n"
     ]
    }
   ],
   "source": [
    "# Program to double each item in a list using map()\n",
    "\n",
    "my_list = [1, 2, 3, 4, 5, 6, 7, 8, 9, 10]\n",
    "\n",
    "new_list = list(map(lambda x: x * 2 , my_list))\n",
    "\n",
    "print(new_list)"
   ]
  },
  {
   "cell_type": "markdown",
   "metadata": {},
   "source": [
    "# Python Object Oriented Programming\n",
    "* Python is an object oriented programming language.\n",
    "* Almost everything in Python is an object, with its properties and methods.\n",
    "* The concept of OOP in Python focuses on creating reusable code. This concept is also known as DRY (Don't Repeat Yourself).\n",
    "* An object has two characteristics:\n",
    "\n",
    "1. attributes\n",
    "2. behavior"
   ]
  },
  {
   "cell_type": "markdown",
   "metadata": {},
   "source": [
    "## Class\n",
    "* A Class is like an object constructor, or a \"blueprint\" for creating objects.\n",
    "* To create a class, use the keyword <code>class:\n",
    "\n"
   ]
  },
  {
   "cell_type": "code",
   "execution_count": 14,
   "metadata": {},
   "outputs": [],
   "source": [
    "class MyClass:\n",
    "    x = 5"
   ]
  },
  {
   "cell_type": "markdown",
   "metadata": {},
   "source": [
    "## Object Creation"
   ]
  },
  {
   "cell_type": "code",
   "execution_count": 15,
   "metadata": {},
   "outputs": [
    {
     "name": "stdout",
     "output_type": "stream",
     "text": [
      "5\n"
     ]
    }
   ],
   "source": [
    "a1 = MyClass()\n",
    "print(a1.x)"
   ]
  },
  {
   "cell_type": "markdown",
   "metadata": {},
   "source": [
    "## __init__() Function\n",
    "All classes have a function called <code>__init__()</code>, which is always executed when the class is being initiated.\n",
    "\n",
    "Use the <code>__init__()</code> function to assign values to object properties, or other operations that are necessary to do when the object is being created:"
   ]
  },
  {
   "cell_type": "code",
   "execution_count": 17,
   "metadata": {},
   "outputs": [
    {
     "name": "stdout",
     "output_type": "stream",
     "text": [
      "ADMIN\n",
      "20\n"
     ]
    }
   ],
   "source": [
    "class Human:\n",
    "    def __init__(self, name, age):\n",
    "        self.name = name\n",
    "        self.age = age\n",
    "\n",
    "a1 = Human(\"ADMIN\", 20)\n",
    "\n",
    "print(a1.name)\n",
    "print(a1.age)"
   ]
  },
  {
   "cell_type": "markdown",
   "metadata": {},
   "source": [
    "## Object Methods\n",
    "Objects can also contain methods. Methods in objects are functions that belong to the object."
   ]
  },
  {
   "cell_type": "code",
   "execution_count": 18,
   "metadata": {},
   "outputs": [
    {
     "name": "stdout",
     "output_type": "stream",
     "text": [
      "Hello my name is ADMIN\n"
     ]
    }
   ],
   "source": [
    "class Human:\n",
    "    def __init__(self, name, age):\n",
    "        self.name = name\n",
    "        self.age = age\n",
    "\n",
    "    def myfunc(self):\n",
    "        print(\"Hello my name is \" + self.name)\n",
    "\n",
    "a1 = Human(\"ADMIN\", 20)\n",
    "a1.myfunc()"
   ]
  },
  {
   "cell_type": "markdown",
   "metadata": {},
   "source": [
    "## Inheritance\n",
    "Inheritance is a way of creating a new class for using details of an existing class without modifying it. The new class is known as derived or child class."
   ]
  },
  {
   "cell_type": "code",
   "execution_count": 20,
   "metadata": {},
   "outputs": [
    {
     "name": "stdout",
     "output_type": "stream",
     "text": [
      "Human is ready\n",
      "Baby is ready\n",
      "Baby\n",
      "Yes I am able to swim\n",
      "I am not able to eat by myself\n"
     ]
    }
   ],
   "source": [
    "# parent class\n",
    "class Human:\n",
    "    \n",
    "    def __init__(self):\n",
    "        print(\"Human is ready\")\n",
    "\n",
    "    def whoisThis(self):\n",
    "        print(\"Human\")\n",
    "\n",
    "    def swim(self):\n",
    "        print(\"Yes I am able to swim\")\n",
    "\n",
    "# child class\n",
    "class Baby(Human):\n",
    "\n",
    "    def __init__(self):\n",
    "        # call super() function\n",
    "        super().__init__()\n",
    "        print(\"Baby is ready\")\n",
    "\n",
    "    def whoisThis(self):\n",
    "        print(\"Baby\")\n",
    "\n",
    "    def eat(self):\n",
    "        print(\"I am not able to eat by myself\")\n",
    "\n",
    "babby = Baby()\n",
    "babby.whoisThis()\n",
    "babby.swim()\n",
    "babby.eat()"
   ]
  },
  {
   "cell_type": "markdown",
   "metadata": {},
   "source": [
    "## Encapsulation\n",
    "\n",
    "Using OOP in Python, we can restrict access to methods and variables. This prevents data from direct modification which is called encapsulation.\n",
    "we denote private attributes using underscore as the prefix i.e single <code>_</code> or double <code>__</code>."
   ]
  },
  {
   "cell_type": "code",
   "execution_count": 21,
   "metadata": {},
   "outputs": [
    {
     "name": "stdout",
     "output_type": "stream",
     "text": [
      "Selling Price: 9000\n",
      "Selling Price: 9000\n",
      "Selling Price: 1000\n"
     ]
    }
   ],
   "source": [
    "class Shoes:\n",
    "\n",
    "    def __init__(self):\n",
    "        self.__maxprice = 9000\n",
    "\n",
    "    def sell(self):\n",
    "        print(\"Selling Price: {}\".format(self.__maxprice))\n",
    "\n",
    "    def setMaxPrice(self, price):\n",
    "        self.__maxprice = price\n",
    "\n",
    "c = Shoes()\n",
    "c.sell()\n",
    "\n",
    "# change the price\n",
    "c.__maxprice = 10000\n",
    "c.sell()\n",
    "\n",
    "# using setter function\n",
    "c.setMaxPrice(1000)\n",
    "c.sell()"
   ]
  },
  {
   "cell_type": "markdown",
   "metadata": {},
   "source": [
    "* We tried to modify the price. However, we can't change it because Python treats the __maxprice as private attributes."
   ]
  },
  {
   "cell_type": "markdown",
   "metadata": {},
   "source": [
    "## Polymorphism\n",
    "Polymorphism in python defines methods in the child class that have the same name as the methods in the parent class. In inheritance, the child class inherits the methods from the parent class. Also, it is possible to modify a method in a child class that it has inherited from the parent class."
   ]
  },
  {
   "cell_type": "code",
   "execution_count": 25,
   "metadata": {},
   "outputs": [
    {
     "name": "stdout",
     "output_type": "stream",
     "text": [
      "There are many types of animals.\n",
      "Most of the animals can jump but some cannot.\n",
      "There are many types of animals.\n",
      "Tigers can jump.\n",
      "There are many types of animals.\n",
      "Elephants cannot jump.\n"
     ]
    }
   ],
   "source": [
    "\n",
    "class Animal: \n",
    "    def intro(self): \n",
    "        print(\"There are many types of animals.\") \n",
    "      \n",
    "    def jump(self): \n",
    "        print(\"Most of the animals can jump but some cannot.\") \n",
    "    \n",
    "class Tiger(Animal): \n",
    "    def jump(self): \n",
    "        print(\"Tigers can jump.\") \n",
    "      \n",
    "class Elephant(Animal): \n",
    "    def jump(self): \n",
    "        print(\"Elephants cannot jump.\") \n",
    "      \n",
    "obj_animal = Animal() \n",
    "obj_tig = Tiger() \n",
    "obj_elep = Elephant() \n",
    "  \n",
    "obj_animal.intro() \n",
    "obj_animal.jump() \n",
    "  \n",
    "obj_tig.intro() \n",
    "obj_tig.jump() \n",
    "  \n",
    "obj_elep.intro() \n",
    "obj_elep.jump() "
   ]
  },
  {
   "cell_type": "markdown",
   "metadata": {},
   "source": [
    "## Python Exception Handling\n",
    "When an error occurs, or exception as we call it, Python will normally stop and generate an error message.\n",
    "\n",
    "* The <code>try</code> block lets you test a block of code for errors.\n",
    "\n",
    "* The <code>except</code> block lets you handle the error.\n",
    "\n",
    "* The <code>finally</code> block lets you execute code, regardless of the result of the try- and except blocks."
   ]
  },
  {
   "cell_type": "code",
   "execution_count": 2,
   "metadata": {},
   "outputs": [
    {
     "name": "stdout",
     "output_type": "stream",
     "text": [
      "An exception occurred\n"
     ]
    }
   ],
   "source": [
    "try:\n",
    "    print(x)\n",
    "except:\n",
    "    print(\"An exception occurred\")\n"
   ]
  },
  {
   "cell_type": "code",
   "execution_count": 3,
   "metadata": {},
   "outputs": [
    {
     "name": "stdout",
     "output_type": "stream",
     "text": [
      "Variable x is not defined\n"
     ]
    }
   ],
   "source": [
    "try:\n",
    "    print(x)\n",
    "except NameError:\n",
    "    print(\"Variable x is not defined\")\n",
    "except:\n",
    "    print(\"Something else went wrong\")"
   ]
  },
  {
   "cell_type": "markdown",
   "metadata": {},
   "source": [
    "* You can use the else keyword to define a block of code to be executed if no errors were raised:\n",
    "\n"
   ]
  },
  {
   "cell_type": "code",
   "execution_count": 4,
   "metadata": {},
   "outputs": [
    {
     "name": "stdout",
     "output_type": "stream",
     "text": [
      "Hello\n",
      "Everything is fine\n"
     ]
    }
   ],
   "source": [
    "try:\n",
    "    print(\"Hello\")\n",
    "except:\n",
    "    print(\"Something went wrong in this block\")\n",
    "else:\n",
    "    print(\"Everything is fine\")"
   ]
  },
  {
   "cell_type": "markdown",
   "metadata": {},
   "source": [
    "### Finally\n",
    "The finally block will be executed regardless if the try block raises an error or not."
   ]
  },
  {
   "cell_type": "code",
   "execution_count": 6,
   "metadata": {},
   "outputs": [
    {
     "name": "stdout",
     "output_type": "stream",
     "text": [
      "Something went wrong in this block\n",
      "I'm always execute\n"
     ]
    }
   ],
   "source": [
    "try:\n",
    "    print(x)\n",
    "except:\n",
    "    print(\"Something went wrong in this block\")\n",
    "finally:\n",
    "    print(\"I'm always execute\")"
   ]
  },
  {
   "cell_type": "markdown",
   "metadata": {},
   "source": [
    "## File Hanlding\n",
    "* The key function for working with files in Python is the <code>open()</code> function.\n",
    "\n",
    "* The <code>open()</code> function takes two parameters; filename, and mode.\n",
    "\n",
    "* There are six different methods (modes) for opening a file:\n",
    "\n",
    "\n",
    "1. \"r\" - Read - Default value. Opens a file for reading, error if the file does not exist\n",
    "\n",
    "2. \"a\" - Append - Opens a file for appending, creates the file if it does not exist\n",
    "\n",
    "3. \"w\" - Write - Opens a file for writing, creates the file if it does not exist\n",
    "\n",
    "4. \"x\" - Create - Creates the specified file, returns an error if the file exists\n",
    "\n",
    "5. \"t\" - Text - Default value. Text mode\n",
    "\n",
    "6. \"b\" - Binary - Binary mode (e.g. images)"
   ]
  },
  {
   "cell_type": "markdown",
   "metadata": {},
   "source": [
    "### Create a New File\n",
    "\n",
    "To create a new file in Python, use the open() method, with one of the following parameters:\n",
    "\n",
    "* \"x\" - Create - will create a file, returns an error if the file exist \n",
    "\n",
    "* \"a\" - Append - will create a file if the specified file does not exist\n",
    "\n",
    "* \"w\" - Write - will create a file if the specified file does not exist"
   ]
  },
  {
   "cell_type": "markdown",
   "metadata": {},
   "source": [
    "## Write to an Existing File\n",
    "To write to an existing file, you must add a parameter to the open() function:\n",
    "\n",
    "* \"a\" - Append - will append to the end of the file\n",
    "\n",
    "* \"w\" - Write - will overwrite any existing content"
   ]
  },
  {
   "cell_type": "code",
   "execution_count": null,
   "metadata": {},
   "outputs": [],
   "source": []
  }
 ],
 "metadata": {
  "kernelspec": {
   "display_name": "Python 3",
   "language": "python",
   "name": "python3"
  },
  "language_info": {
   "codemirror_mode": {
    "name": "ipython",
    "version": 3
   },
   "file_extension": ".py",
   "mimetype": "text/x-python",
   "name": "python",
   "nbconvert_exporter": "python",
   "pygments_lexer": "ipython3",
   "version": "3.8.5"
  }
 },
 "nbformat": 4,
 "nbformat_minor": 4
}
