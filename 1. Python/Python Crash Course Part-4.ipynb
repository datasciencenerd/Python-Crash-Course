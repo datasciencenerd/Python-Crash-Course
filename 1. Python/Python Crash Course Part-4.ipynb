{
 "cells": [
  {
   "attachments": {
    "logo.jpg": {
     "image/jpeg": "[encoded data removed]"
    }
   },
   "cell_type": "markdown",
   "metadata": {},
   "source": [
    "![logo.jpg](attachment:logo.jpg)"
   ]
  },
  {
   "cell_type": "markdown",
   "metadata": {},
   "source": [
    "# Python Containers\n",
    "Python includes several built-in container types: lists, dictionaries, sets, and tuples.\n",
    "\n",
    "\n"
   ]
  },
  {
   "cell_type": "markdown",
   "metadata": {},
   "source": [
    "## 1. Python Lists\n",
    "Lists are used to store multiple items in a single variable. It store multiple hetrognous items in a single variable. Lists are defined in Python by enclosing a comma-separated sequence of objects in square brackets ([]).\n",
    "\n"
   ]
  },
  {
   "cell_type": "code",
   "execution_count": 1,
   "metadata": {},
   "outputs": [
    {
     "name": "stdout",
     "output_type": "stream",
     "text": [
      "[1, 2, 3, 4, 5] 3\n",
      "5\n",
      "[1, 2, 'foo', 4, 5]\n",
      "[1, 2, 'foo', 4, 5, 'bar']\n",
      "bar [1, 2, 'foo', 4, 5]\n"
     ]
    }
   ],
   "source": [
    "l1 = [1, 2, 3, 4, 5]    # Create a list\n",
    "print(l1, l1[2])  # Prints \"[1, 2, 3, 4, 5] 3\"\n",
    "print(l1[-1])     # Negative indices count from the end of the list; prints \"5\"\n",
    "l1[2] = 'hello'     # Lists can contain elements of different types\n",
    "print(l1)         # Prints \"[1, 2, 'foo', 4, 5]\"\n",
    "l1.append('world')  # Add a new element to the end of the list\n",
    "print(l1)         # Prints \"[1, 2, 'foo', 4, 5, 'bar']\"\n",
    "x = l1.pop()      # Remove and return the last element of the list\n",
    "print(x, l1)      # Prints \"bar [1, 2, 'foo', 4, 5]\""
   ]
  },
  {
   "cell_type": "markdown",
   "metadata": {},
   "source": [
    "**Slicing**: In addition to accessing list elements one at a time, Python provides concise syntax to access sublists; this is known as slicing:\n",
    "\n"
   ]
  },
  {
   "cell_type": "code",
   "execution_count": 3,
   "metadata": {},
   "outputs": [
    {
     "name": "stdout",
     "output_type": "stream",
     "text": [
      "[0, 1, 2, 3, 4, 5, 6, 7, 8, 9]\n",
      "[3, 4]\n",
      "[3, 4, 5, 6, 7, 8, 9]\n",
      "[0, 1, 2, 3]\n",
      "[0, 1, 2, 3, 4, 5, 6, 7, 8, 9]\n",
      "[0, 1, 2, 3, 4, 5, 6, 7, 8]\n",
      "[0, 1, 11, 12, 4, 5, 6, 7, 8, 9]\n"
     ]
    }
   ],
   "source": [
    "nums = list(range(10))     # range is a built-in function that creates a list of integers\n",
    "print(nums)               # Prints \"[0, 1, 2, 3, 4, 5, 6, 7, 8, 9]\"\n",
    "print(nums[3:5])          # Get a slice from index 3 to 5 (exclusive); prints \"[3, 4]\"\n",
    "print(nums[3:])           # Get a slice from index 3 to the end; prints \"[3, 4, 5, 6, 7, 8, 9]\"\n",
    "print(nums[:4])           # Get a slice from the start to index 4 (exclusive); prints \"[0, 1, 2, 3]\"\n",
    "print(nums[:])            # Get a slice of the whole list; prints \"[0, 1, 2, 3, 4, 5, 6, 7, 8, 9]\"\n",
    "print(nums[:-1])          # Slice indices can be negative; prints \"[0, 1, 2, 3, 4, 5, 6, 7, 8]\"\n",
    "nums[2:4] = [11, 12]        # Assign a new value to a slice\n",
    "print(nums)               # Prints \"[0, 1, 11, 12, 4, 5, 6, 7, 8, 9]\""
   ]
  },
  {
   "cell_type": "markdown",
   "metadata": {},
   "source": [
    "#### Loop in List"
   ]
  },
  {
   "cell_type": "code",
   "execution_count": 4,
   "metadata": {},
   "outputs": [
    {
     "name": "stdout",
     "output_type": "stream",
     "text": [
      "potato\n",
      "onion\n",
      "cabbage\n"
     ]
    }
   ],
   "source": [
    "veggies = [\"potato\", \"onion\", \"cabbage\"]\n",
    "for veggie in veggies:\n",
    "    print(veggie)"
   ]
  },
  {
   "cell_type": "markdown",
   "metadata": {},
   "source": [
    "* If you want access to the index of each element within the body of a loop, use the built-in enumerate function:\n",
    "\n"
   ]
  },
  {
   "cell_type": "code",
   "execution_count": 5,
   "metadata": {},
   "outputs": [
    {
     "name": "stdout",
     "output_type": "stream",
     "text": [
      "#1: potato\n",
      "#2: onion\n",
      "#3: cabbage\n"
     ]
    }
   ],
   "source": [
    "veggies = [\"potato\", \"onion\", \"cabbage\"]\n",
    "for idx, veggie in enumerate(veggies):\n",
    "    print('#%d: %s' % (idx + 1, veggie))"
   ]
  },
  {
   "cell_type": "markdown",
   "metadata": {},
   "source": [
    "#### List Comprehension\n",
    "List comprehension offers a shorter syntax when you want to create a new list based on the values of an existing list."
   ]
  },
  {
   "cell_type": "code",
   "execution_count": 6,
   "metadata": {},
   "outputs": [
    {
     "name": "stdout",
     "output_type": "stream",
     "text": [
      "[1, 4, 9, 16, 25]\n"
     ]
    }
   ],
   "source": [
    "nums = [1, 2, 3, 4, 5]\n",
    "squares = []\n",
    "for x in nums:\n",
    "    squares.append(x ** 2)\n",
    "print(squares)"
   ]
  },
  {
   "cell_type": "markdown",
   "metadata": {},
   "source": [
    "* #### by list comprehension:"
   ]
  },
  {
   "cell_type": "code",
   "execution_count": 8,
   "metadata": {},
   "outputs": [
    {
     "name": "stdout",
     "output_type": "stream",
     "text": [
      "[1, 4, 9, 16, 25]\n"
     ]
    }
   ],
   "source": [
    "nums = [1, 2, 3, 4, 5]\n",
    "squares = [x ** 2 for x in nums]\n",
    "print(squares)"
   ]
  },
  {
   "cell_type": "markdown",
   "metadata": {},
   "source": [
    "* conditional statements in list comoprehension"
   ]
  },
  {
   "cell_type": "code",
   "execution_count": 10,
   "metadata": {},
   "outputs": [
    {
     "name": "stdout",
     "output_type": "stream",
     "text": [
      "[1, 9, 25]\n"
     ]
    }
   ],
   "source": [
    "nums = [1, 2, 3, 4, 5]\n",
    "odd_squares = [x ** 2 for x in nums if x % 2 != 0]\n",
    "print(odd_squares)"
   ]
  },
  {
   "cell_type": "markdown",
   "metadata": {},
   "source": [
    "## 2. Python Dictionaries\n",
    "Dictionaries are used to store data values in <code>key:value</code> pairs.\n",
    "A dictionary is a collection which is unordered, changeable and does not allow duplicates.\n",
    "Creating a dictionary is as simple as placing items inside curly braces <code>{}</code> separated by commas."
   ]
  },
  {
   "cell_type": "code",
   "execution_count": 12,
   "metadata": {},
   "outputs": [
    {
     "name": "stdout",
     "output_type": "stream",
     "text": [
      "apple\n",
      "True\n",
      "chicken\n",
      "N/A\n",
      "chicken\n",
      "N/A\n"
     ]
    }
   ],
   "source": [
    "d = {'fruit': 'apple', 'veggie': 'potato'}  # Create a new dictionary with some data\n",
    "print(d['fruit'])       # Get an entry from a dictionary; prints \"apple\"\n",
    "print('fruit' in d)     # Check if a dictionary has a given key; prints \"True\"\n",
    "d['non-veg'] = 'chicken'     # Set an entry in a dictionary\n",
    "print(d['non-veg'])      # Prints \"chicken\"\n",
    "\n",
    "# print(d['monkey'])  # KeyError: 'monkey' not a key of d\n",
    "\n",
    "print(d.get('fish', 'N/A'))  # Get an element with a default; prints \"N/A\"\n",
    "print(d.get('non-veg', 'N/A'))    # Get an element with a default; prints \"chicken\"\n",
    "del d['non-veg']         # Remove an element from a dictionary\n",
    "print(d.get('non-veg', 'N/A')) # \"non-veg\" is no longer a key; prints \"N/A\""
   ]
  },
  {
   "cell_type": "markdown",
   "metadata": {},
   "source": [
    "**Loops:** We can easily iterate over the keys in a dictionary:\n",
    "\n"
   ]
  },
  {
   "cell_type": "code",
   "execution_count": 13,
   "metadata": {},
   "outputs": [
    {
     "name": "stdout",
     "output_type": "stream",
     "text": [
      "A human has 2 legs\n",
      "A animal has 4 legs\n",
      "A spider has 8 legs\n"
     ]
    }
   ],
   "source": [
    "d = {'human': 2, 'animal': 4, 'spider': 8}\n",
    "for animal in d:\n",
    "    legs = d[animal]\n",
    "    print('A %s has %d legs' % (animal, legs))"
   ]
  },
  {
   "cell_type": "markdown",
   "metadata": {},
   "source": [
    "#### Dictionary comprehensions: These are similar to list comprehensions, it also offers a shorter syntax when you want to create a new dictionary."
   ]
  },
  {
   "cell_type": "code",
   "execution_count": 15,
   "metadata": {},
   "outputs": [
    {
     "name": "stdout",
     "output_type": "stream",
     "text": [
      "{1: 1, 2: 4, 3: 9, 4: 16, 5: 25}\n"
     ]
    }
   ],
   "source": [
    "nums = [1, 2, 3, 4, 5]\n",
    "num_to_square = {x: x ** 2 for x in nums}\n",
    "print(num_to_square)"
   ]
  },
  {
   "cell_type": "markdown",
   "metadata": {},
   "source": [
    "* conditional statements in list comoprehension"
   ]
  },
  {
   "cell_type": "code",
   "execution_count": 16,
   "metadata": {},
   "outputs": [
    {
     "name": "stdout",
     "output_type": "stream",
     "text": [
      "{2: 4, 4: 16}\n"
     ]
    }
   ],
   "source": [
    "nums = [1, 2, 3, 4, 5]\n",
    "even_num_to_square = {x: x ** 2 for x in nums if x % 2 == 0}\n",
    "print(even_num_to_square) "
   ]
  },
  {
   "cell_type": "markdown",
   "metadata": {},
   "source": [
    "## 3. Stets\n",
    "\n",
    "A set is an unordered collection of items. Every set element is unique (no duplicates) and must be immutable (cannot be changed)."
   ]
  },
  {
   "cell_type": "code",
   "execution_count": 19,
   "metadata": {},
   "outputs": [
    {
     "name": "stdout",
     "output_type": "stream",
     "text": [
      "True\n",
      "False\n",
      "True\n",
      "4\n",
      "4\n",
      "3\n"
     ]
    }
   ],
   "source": [
    "fruits = {'apple', 'banana', 'strawberry'}\n",
    "print('apple' in fruits)   # Check if an element is in a set; prints \"True\"\n",
    "print('grapes' in fruits)  # prints \"False\"\n",
    "fruits.add('grapes')       # Add an element to a set\n",
    "print('grapes' in fruits)  # Prints \"True\"\n",
    "print(len(fruits))       # Number of elements in a set; prints \"4\"\n",
    "fruits.add('banana')        # Adding an element that is already in the set does nothing\n",
    "print(len(fruits))       # Prints \"4\"\n",
    "fruits.remove('grapes')     # Remove an element from a set\n",
    "print(len(fruits))       # Prints \"3\""
   ]
  },
  {
   "cell_type": "markdown",
   "metadata": {},
   "source": [
    "**Loops:** We can easily iterate over the sets,  since sets are unordered, you cannot make assumptions about the order in which you visit the elements of the set::\n",
    "\n"
   ]
  },
  {
   "cell_type": "code",
   "execution_count": 20,
   "metadata": {},
   "outputs": [
    {
     "name": "stdout",
     "output_type": "stream",
     "text": [
      "#1: apple\n",
      "#2: grapes\n",
      "#3: banana\n"
     ]
    }
   ],
   "source": [
    "fruits = {'apple', 'banana', 'grapes'}\n",
    "for idx, fruit in enumerate(fruits):\n",
    "    print('#%d: %s' % (idx + 1, fruit))"
   ]
  },
  {
   "cell_type": "markdown",
   "metadata": {},
   "source": [
    "**Set comprehensions:** Like lists and dictionaries, we can easily construct sets using set comprehensions:\n",
    "\n"
   ]
  },
  {
   "cell_type": "code",
   "execution_count": 22,
   "metadata": {},
   "outputs": [
    {
     "name": "stdout",
     "output_type": "stream",
     "text": [
      "{0.0, 1.0, 2.0, 1.7320508075688772, 1.4142135623730951, 2.23606797749979, 2.449489742783178, 2.6457513110645907, 2.8284271247461903, 3.0}\n"
     ]
    }
   ],
   "source": [
    "from math import sqrt\n",
    "nums = {sqrt(x) for x in range(10)}\n",
    "print(nums)"
   ]
  },
  {
   "cell_type": "markdown",
   "metadata": {},
   "source": [
    "## 4. Tuples\n",
    "A tuple can have any number of items and they may be of different types (integer, float, list, string, etc.). Tuples are immutable.\n",
    "\n",
    "Tuples are defined by enclosing the elements in parentheses <code>()</code>"
   ]
  },
  {
   "cell_type": "code",
   "execution_count": 27,
   "metadata": {},
   "outputs": [
    {
     "data": {
      "text/plain": [
       "('apple', 34, True, 40.8, 'male')"
      ]
     },
     "execution_count": 27,
     "metadata": {},
     "output_type": "execute_result"
    }
   ],
   "source": [
    "tuple1 = (\"apple\", 34, True, 40.8, \"male\")\n",
    "tuple1"
   ]
  },
  {
   "cell_type": "code",
   "execution_count": 30,
   "metadata": {},
   "outputs": [
    {
     "name": "stdout",
     "output_type": "stream",
     "text": [
      "<class 'tuple'>\n",
      "5\n",
      "1\n"
     ]
    }
   ],
   "source": [
    "tup = (5, 6)        # Create a tuple\n",
    "print(type(tup))    # Prints \"<class 'tuple'>\"\n",
    "dict1 = {(x, x + 1): x for x in range(10)}  # Create a dictionary with tuple keys\n",
    "print(dict1[tup])     # Prints \"5\"\n",
    "print(dict1[(1, 2)])  # Prints \"1\""
   ]
  },
  {
   "cell_type": "code",
   "execution_count": null,
   "metadata": {},
   "outputs": [],
   "source": []
  }
 ],
 "metadata": {
  "kernelspec": {
   "display_name": "Python 3",
   "language": "python",
   "name": "python3"
  },
  "language_info": {
   "codemirror_mode": {
    "name": "ipython",
    "version": 3
   },
   "file_extension": ".py",
   "mimetype": "text/x-python",
   "name": "python",
   "nbconvert_exporter": "python",
   "pygments_lexer": "ipython3",
   "version": "3.8.5"
  }
 },
 "nbformat": 4,
 "nbformat_minor": 4
}
