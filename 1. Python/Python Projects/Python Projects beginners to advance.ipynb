{
 "cells": [
  {
   "attachments": {
    "logo.jpg": {
     "image/jpeg": "[encoded data removed]"
    }
   },
   "cell_type": "markdown",
   "metadata": {},
   "source": [
    "![logo.jpg](attachment:logo.jpg)"
   ]
  },
  {
   "cell_type": "markdown",
   "metadata": {},
   "source": [
    "# Rock Paper Sessiors"
   ]
  },
  {
   "cell_type": "code",
   "execution_count": null,
   "metadata": {},
   "outputs": [],
   "source": [
    "import random\n",
    "import os\n",
    "import re\n",
    "os.system('cls' if os.name=='nt' else 'clear')\n",
    "while (1 < 2):\n",
    "    print(\"\\n\")\n",
    "    print(\"Rock, Paper, Scissors - Shoot!\")\n",
    "    userChoice = input(\"Choose your weapon [R]ock], [P]aper, or [S]cissors: \")\n",
    "    if not re.match(\"[SsRrPp]\", userChoice):\n",
    "        print(\"Please choose a letter:\")\n",
    "        print(\"[R]ock, [S]cissors or [P]aper.\")\n",
    "        continue\n",
    "    #// Echo the user's choice\n",
    "    print(\"You chose: \" + userChoice)\n",
    "    choices = ['R', 'P', 'S']\n",
    "    opponenetChoice = random.choice(choices)\n",
    "    print (\"I chose: \" + opponenetChoice)\n",
    "    if opponenetChoice == str.upper(userChoice):\n",
    "        print(\"Tie! \")\n",
    "    #if opponenetChoice == str(\"R\") and str.upper(userChoice) == \"P\"\n",
    "    elif opponenetChoice == 'R' and userChoice.upper() == 'S':      \n",
    "        print(\"Scissors beats rock, I win! \")\n",
    "        continue\n",
    "    elif opponenetChoice == 'S' and userChoice.upper() == 'P':      \n",
    "        print(\"Scissors beats paper! I win! \")\n",
    "        continue\n",
    "    elif opponenetChoice == 'P' and userChoice.upper() == 'R':      \n",
    "        print(\"Paper beat rock, I win! \")\n",
    "        continue\n",
    "    else:       \n",
    "        print(\"You win!\")\n",
    "break"
   ]
  },
  {
   "cell_type": "markdown",
   "metadata": {},
   "source": [
    "# 2. Alarm"
   ]
  },
  {
   "cell_type": "code",
   "execution_count": null,
   "metadata": {},
   "outputs": [],
   "source": [
    "#Importing all the necessary libraries to form the alarm clock:\n",
    "from tkinter import *\n",
    "import datetime\n",
    "import time\n",
    "import winsound\n",
    "\n",
    "\n",
    "\n",
    "def alarm(set_alarm_timer):\n",
    "    while True:\n",
    "        time.sleep(1)\n",
    "        current_time = datetime.datetime.now()\n",
    "        now = current_time.strftime(\"%H:%M:%S\")\n",
    "        date = current_time.strftime(\"%d/%m/%Y\")\n",
    "        print(\"The Set Date is:\",date)\n",
    "        print(now)\n",
    "        if now == set_alarm_timer:\n",
    "            print(\"Time to Wake up\")\n",
    "            winsound.PlaySound(\"sound.mp3\",winsound.SND_ASYNC)\n",
    "            break\n",
    "\n",
    "def actual_time():\n",
    "    set_alarm_timer = f\"{hour.get()}:{min.get()}:{sec.get()}\"\n",
    "    alarm(set_alarm_timer)\n",
    "\n",
    "clock = Tk()\n",
    "clock.title(\"Set Your Alarm\")\n",
    "clock.geometry(\"400x200\")\n",
    "time_format=Label(clock, text= \"Enter time in 24 hour format!\", fg=\"red\",bg=\"black\",font=\"Arial\").place(x=60,y=120)\n",
    "addTime = Label(clock,text = \"Hour  Min    Sec\",font=60).place(x = 110)\n",
    "setYourAlarm = Label(clock,text = \"When to wake you up\",fg=\"green\",relief = \"solid\",font=(\"Helevetica\",7,\"bold\")).place(x=0, y=29)\n",
    "\n",
    "# The Variables we require to set the alarm(initialization):\n",
    "hour = StringVar()\n",
    "min = StringVar()\n",
    "sec = StringVar()\n",
    "\n",
    "#Time required to set the alarm clock:\n",
    "hourTime= Entry(clock,textvariable = hour,bg = \"red\",width = 15).place(x=110,y=30)\n",
    "minTime= Entry(clock,textvariable = min,bg = \"yellow\",width = 15).place(x=150,y=30)\n",
    "secTime = Entry(clock,textvariable = sec,bg = \"green\",width = 15).place(x=200,y=30)\n",
    "\n",
    "#To take the time input by user:\n",
    "submit = Button(clock,text = \"Set Alarm\",fg=\"red\",width = 10,command = actual_time).place(x =110,y=70)\n",
    "\n",
    "clock.mainloop()\n",
    "#Execution of the window."
   ]
  },
  {
   "cell_type": "markdown",
   "metadata": {},
   "source": [
    "# 3.Password Generator"
   ]
  },
  {
   "cell_type": "code",
   "execution_count": null,
   "metadata": {},
   "outputs": [],
   "source": [
    "import random, string\n",
    "password_length = int(input(\"How long should the password be?\"))\n",
    "password_length = int(input(\"How long should the password be? Please tell me in numbers.\"))\n",
    "password_characters = string.ascii_letters + string.digits + string.punctuation\n",
    "password = []\n",
    "for x in range(password_length):\n",
    "    password.append(random.choice(password_characters))\n"
   ]
  },
  {
   "cell_type": "code",
   "execution_count": null,
   "metadata": {},
   "outputs": [],
   "source": []
  }
 ],
 "metadata": {
  "kernelspec": {
   "display_name": "Python 3",
   "language": "python",
   "name": "python3"
  },
  "language_info": {
   "codemirror_mode": {
    "name": "ipython",
    "version": 3
   },
   "file_extension": ".py",
   "mimetype": "text/x-python",
   "name": "python",
   "nbconvert_exporter": "python",
   "pygments_lexer": "ipython3",
   "version": "3.8.5"
  }
 },
 "nbformat": 4,
 "nbformat_minor": 4
}
